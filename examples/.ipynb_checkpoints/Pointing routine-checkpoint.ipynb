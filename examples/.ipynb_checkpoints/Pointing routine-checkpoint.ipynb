{
 "cells": [
  {
   "cell_type": "markdown",
   "id": "f6f6495e",
   "metadata": {},
   "source": [
    "The notebook outlines the telescope pointing routine to a LEO satellite from NORAD catalogue. The illustration shows baseline geometry of the mathematical model.\n",
    "\n",
    "<!-- ![pointing_geometry.png](attachment:pointing_geometry.png) -->\n",
    "<img src=\"pointing_geometry.png\" width=\"500\" height=\"340\"> "
   ]
  },
  {
   "cell_type": "code",
   "execution_count": null,
   "id": "8a041334",
   "metadata": {},
   "outputs": [],
   "source": []
  }
 ],
 "metadata": {
  "kernelspec": {
   "display_name": "Python 3 (ipykernel)",
   "language": "python",
   "name": "python3"
  },
  "language_info": {
   "codemirror_mode": {
    "name": "ipython",
    "version": 3
   },
   "file_extension": ".py",
   "mimetype": "text/x-python",
   "name": "python",
   "nbconvert_exporter": "python",
   "pygments_lexer": "ipython3",
   "version": "3.11.5"
  }
 },
 "nbformat": 4,
 "nbformat_minor": 5
}
