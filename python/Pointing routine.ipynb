{
 "cells": [
  {
   "cell_type": "markdown",
   "id": "daf16b9a",
   "metadata": {},
   "source": [
    "The notebook outlines the telescope pointing routine to a LEO satellite from NORAD catalogue based on Two-Line Elements (TLE) data. The illustration below shows the baseline geometry of the mathematical model.\n",
    "\n",
    "<!-- ![pointing_geometry.png](attachment:pointing_geometry.png) -->\n",
    "<img src=\"pointing_geometry.png\" width=\"500\" height=\"340\"> \n",
    "\n",
    "Two reference frame are depicted. Earth-centered Earth-fixed (ECEF) denoted as $\\textit{OXYZ}$ is used to specify the location of the observatory on the Earth. Local reference frame $\\textit{oxyz}$ originated at the observatory location, x-axis points toward North, z-axis points to zenith, y-axis completes orthonormal reference frame. The reference frame is used to specify azimuth and elevation of a satellite as seen from the observatory location.\n",
    "\n",
    "\n",
    "$\\mathbf{R}_{obs}$ represents observatory position vector given ECEF frame $\\textit{OXYZ}$.\n",
    "\n",
    "$\\mathbf{R}_{sat}$ represents satellites position vector given ECEF frame $\\textit{OXYZ}$.\n",
    "\n",
    "In order to find azimuth and declination of a satellite for a particular time step the following procedure is used:\n",
    "\n",
    "1. Propagate satellite state to obtain satellite position $\\mathbf{R}_{sat}$ at time t. \n",
    "    Let's use SGP4 propagator that utilizes NORAD TLE as an input as a standard in the aerospace industry. The SGP4 outputs position and velocity given in ECI frame. It should be converted to ECEF frame where there observatory location is represented.\n",
    "2. Find vector $\\mathbf{r}$ pointing from the observatory to the satellite.\n",
    "3. Find satellite azimuth $\\alpha$ and declination $\\beta$ as seen from the observatory by transforming $\\mathbf{r}$ to local reference frame $\\textit{oxyz}$ and then calculating the required angles as shown in illustration above.\n",
    "   \n",
    "Repeat the routine to obtain relative satellite trajectory arc, namely $\\alpha(t)$, $\\beta(t)$."
   ]
  },
  {
   "cell_type": "code",
   "execution_count": 44,
   "id": "2569d794-11cb-4a1b-88db-d4c14e968a7e",
   "metadata": {
    "tags": []
   },
   "outputs": [
    {
     "name": "stdout",
     "output_type": "stream",
     "text": [
      "[[3421031.44757223]\n",
      " [4708645.83380174]\n",
      " [2591322.81366571]]\n"
     ]
    }
   ],
   "source": [
    "from consts import *\n",
    "\n",
    "latitudeObs = 24 * np.pi / 180\n",
    "longitudeObs = 54 * np.pi / 180\n",
    "\n",
    "Robs = np.vstack([Consts.rEarth * np.cos(latitudeObs) * np.cos(longitudeObs), Consts.rEarth * np.cos(latitudeObs) * np.sin(longitudeObs), Consts.rEarth * np.sin(latitudeObs)])  \n",
    "\n",
    "print(Robs)"
   ]
  },
  {
   "cell_type": "code",
   "execution_count": 38,
   "id": "ffbebf3d-d77a-424a-9aaf-0b86590c0302",
   "metadata": {
    "tags": []
   },
   "outputs": [
    {
     "name": "stdout",
     "output_type": "stream",
     "text": [
      "Satellite 1 Position Data\n",
      "                  Date and Time        X, km        Y, km        Z, km\n",
      "0    2024-10-29 12:59:59.999987 -2848.596213  3811.088141 -5039.881683\n",
      "1    2024-10-29 13:00:59.999983 -3065.798327  3436.980048 -5179.642172\n",
      "2    2024-10-29 13:02:00.000020 -3269.825898  3048.101833 -5297.082709\n",
      "3    2024-10-29 13:03:00.000016 -3459.804845  2646.127932 -5391.701877\n",
      "4    2024-10-29 13:04:00.000013 -3634.921657  2232.787116 -5463.096139\n",
      "...                         ...          ...          ...          ...\n",
      "1436 2024-10-30 12:56:00.000001 -3225.575056  2939.556139 -5384.768845\n",
      "1437 2024-10-30 12:56:59.999997 -3433.539255  2542.068709 -5458.071673\n",
      "1438 2024-10-30 12:57:59.999994 -3626.755282  2133.662222 -5507.865513\n",
      "1439 2024-10-30 12:58:59.999990 -3804.394715   1716.09182 -5533.938186\n",
      "1440 2024-10-30 12:59:59.999987 -3965.695485  1291.151341  -5536.17869\n",
      "\n",
      "[1441 rows x 4 columns]\n"
     ]
    }
   ],
   "source": [
    "from sgp4.api import Satrec\n",
    "from datetime import datetime, timedelta\n",
    "from astropy.time import Time\n",
    "import numpy as np\n",
    "import pandas as pd\n",
    "\n",
    "\n",
    "s = \"1 44714U 19074B   24303.16471469  .00014028  00000+0  95926-3 0  9999\"\n",
    "t = \"2 44714  53.0541 255.6079 0001757  96.6875 263.4314 15.06381615274085\"\n",
    "\n",
    "satellite = Satrec.twoline2rv(s, t)\n",
    "\n",
    "\n",
    "# Define start and end dates with specific times\n",
    "start_date = \"2024-10-29 13:00:00\"\n",
    "end_date = \"2024-10-30 13:00:00\"\n",
    "\n",
    "# Generate a range of dates with hourly frequency\n",
    "date_range = pd.date_range(start=start_date, end=end_date, freq='1min')\n",
    "\n",
    "# Convert to a list of strings if needed\n",
    "gregorian_dates = date_range.strftime(\"%Y-%m-%d %H:%M:%S\").tolist()\n",
    "\n",
    "# Convert to Julian Date\n",
    "julian_dates = Time(gregorian_dates, format='iso').jd\n",
    "\n",
    "\n",
    "# Propagate for each Julian Date\n",
    "positionsX = []\n",
    "positionsY = []\n",
    "positionsZ = []\n",
    "\n",
    "for jd in julian_dates:\n",
    "    # Convert JD to days since epoch\n",
    "\n",
    "    # Propagate\n",
    "    e, r, v = satellite.sgp4(jd, 0)\n",
    "    if e == 0:\n",
    "        positionsX.append(r[0])\n",
    "        positionsY.append(r[1])\n",
    "        positionsZ.append(r[2])\n",
    "\n",
    "    else:\n",
    "        positionsX.append(None)  # Error in propagation\n",
    "        positionsY.append(None)  # Error in propagation\n",
    "        positionsY.append(None)  # Error in propagation\n",
    "\n",
    "\n",
    "gregorian_dates = Time(julian_dates, format='jd').to_datetime()\n",
    "\n",
    "sat1Data = np.array([gregorian_dates, positionsX, positionsY, positionsZ]).T\n",
    "\n",
    "sat1 = pd.DataFrame(sat1Data, columns=[\"Date and Time\", \"X, km\", \"Y, km\", \"Z, km\"])\n",
    "\n",
    "print(\"Satellite 1 Position Data\")\n",
    "print(sat1)"
   ]
  },
  {
   "cell_type": "code",
   "execution_count": null,
   "id": "5318be35-fe67-4501-b970-7e346eea7c6b",
   "metadata": {},
   "outputs": [],
   "source": []
  },
  {
   "cell_type": "code",
   "execution_count": 12,
   "id": "03bc8248-0a3a-4ebc-871f-c04d75c0f26d",
   "metadata": {
    "tags": []
   },
   "outputs": [
    {
     "name": "stdout",
     "output_type": "stream",
     "text": [
      "[2460613.04166667 2460613.04236111 2460613.04305556 ... 2460614.04027778\n",
      " 2460614.04097222 2460614.04166667]\n"
     ]
    }
   ],
   "source": [
    "print(julian_dates)"
   ]
  },
  {
   "cell_type": "code",
   "execution_count": 59,
   "id": "8bb6c63d-482f-47a4-98a6-e5da3adc6d39",
   "metadata": {
    "tags": []
   },
   "outputs": [
    {
     "name": "stdout",
     "output_type": "stream",
     "text": [
      "[[ 4745.86445718]\n",
      " [  -15.95712251]\n",
      " [-5051.31829446]]\n",
      "[[-6.01340420e-01  7.98989303e-01  2.40685089e-03]\n",
      " [-7.98991561e-01 -6.01342234e-01  3.83340121e-05]\n",
      " [ 1.47796956e-03 -1.90000176e-03  9.99997103e-01]]\n",
      "0.248269450148296\n"
     ]
    }
   ],
   "source": [
    "# Transforming satellite position to ECEF frame\n",
    "julian_century = (julian_dates[0] - 2451545.0) / 36525.0\n",
    "ecef_to_eci_rotation = rotation_matrix_ecef_to_eci(julian_century)\n",
    "\n",
    "R_ECEF = np.matmul(ecef_to_eci_rotation, np.vstack([positionsX[0], positionsY[0], positionsZ[0]]))\n",
    "print(R_ECEF)\n",
    "print(ecef_to_eci_rotation)\n",
    "print(julian_century)"
   ]
  },
  {
   "cell_type": "code",
   "execution_count": 57,
   "id": "808bf540-227c-4d28-97cc-e7835cf64261",
   "metadata": {
    "tags": []
   },
   "outputs": [
    {
     "name": "stdout",
     "output_type": "stream",
     "text": [
      "0 0\n",
      "[[-0.  1.  0.]\n",
      " [-0. -0.  1.]\n",
      " [ 1.  0.  0.]]\n",
      "[118.8725102] [-6.77000258e-06]\n"
     ]
    }
   ],
   "source": [
    "import numpy as np\n",
    "from calc_local_bases_axes import *\n",
    "\n",
    "lat = 0\n",
    "lon = 0\n",
    "print(lat, lon)\n",
    "\n",
    "A = calc_local_bases_axes(lat, lon)\n",
    "\n",
    "print(A)\n",
    "Rsat = np.vstack([positionsX[0], positionsY[0], positionsZ[0]])\n",
    "\n",
    "r = R_ECEF - Robs\n",
    "\n",
    "rTransformed = np.matmul(A, r)\n",
    "\n",
    "az, decl = calc_local_azimuth_and_declination(rTransformed)\n",
    "\n",
    "# print(r)\n",
    "\n",
    "# print(rTransformed)\n",
    "\n",
    "print(az * 180 / np.pi, decl * 180 / np.pi)"
   ]
  },
  {
   "cell_type": "code",
   "execution_count": 7,
   "id": "668f1483-8e5e-4a21-804c-4e6ccdc43eb1",
   "metadata": {
    "tags": []
   },
   "outputs": [
    {
     "name": "stdout",
     "output_type": "stream",
     "text": [
      "[[ 2.07067703e-01  9.78324511e-01  2.02939438e-03]\n",
      " [-9.78326529e-01  2.07068110e-01  9.76248199e-06]\n",
      " [-4.10671983e-04 -1.98743186e-03  9.99997941e-01]]\n"
     ]
    }
   ],
   "source": [
    "from datetime import datetime, timedelta\n",
    "\n",
    "from conversions import *\n",
    "\n",
    "# Convert UTC time to Julian Century\n",
    "observation_time =  datetime(year=2021, month=3, day=19, hour=7, second=41)\n",
    "julian_date = utc_time_to_julian_date(observation_time)\n",
    "julian_century = (julian_date - 2451545.0) / 36525.0\n",
    "\n",
    "# Compute the rotation matrix\n",
    "ecef_to_eci_rotation = rotation_matrix_ecef_to_eci(julian_century)\n",
    "print(ecef_to_eci_rotation)"
   ]
  },
  {
   "cell_type": "code",
   "execution_count": null,
   "id": "9235b972-656e-4f70-a5bf-3c057afdf8b9",
   "metadata": {
    "tags": []
   },
   "outputs": [],
   "source": []
  },
  {
   "cell_type": "code",
   "execution_count": null,
   "id": "4ec864ff-b4fd-44f0-ba35-55a157e7e2b9",
   "metadata": {},
   "outputs": [],
   "source": []
  }
 ],
 "metadata": {
  "kernelspec": {
   "display_name": "Python 3 (ipykernel)",
   "language": "python",
   "name": "python3"
  },
  "language_info": {
   "codemirror_mode": {
    "name": "ipython",
    "version": 3
   },
   "file_extension": ".py",
   "mimetype": "text/x-python",
   "name": "python",
   "nbconvert_exporter": "python",
   "pygments_lexer": "ipython3",
   "version": "3.11.5"
  }
 },
 "nbformat": 4,
 "nbformat_minor": 5
}
