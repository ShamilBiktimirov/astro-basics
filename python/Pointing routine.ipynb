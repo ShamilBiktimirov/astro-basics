{
 "cells": [
  {
   "cell_type": "markdown",
   "id": "daf16b9a",
   "metadata": {},
   "source": [
    "The notebook outlines the telescope pointing routine to a LEO satellite from NORAD catalogue based on Two-Line Elements (TLE) data. The illustration below shows the baseline geometry of the mathematical model.\n",
    "\n",
    "<!-- ![pointing_geometry.png](attachment:pointing_geometry.png) -->\n",
    "<img src=\"pointing_geometry.png\" width=\"500\" height=\"340\"> \n",
    "\n",
    "Two reference frameы are depicted. Earth-centered Earth-fixed (ECEF) denoted as $\\textit{OXYZ}$ is used to specify the location of the observatory on the Earth. Local reference frame $\\textit{oxyz}$ originates at the observatory location, x-axis points toward North, z-axis points to zenith direction, y-axis completes orthonormal reference frame to the right-handed triad. The reference frame is used to specify azimuth $\\alpha$ and elevation $\\beta$ of a satellite as seen from the observatory location.\n",
    "\n",
    "$\\mathbf{R}_{obs}$ represents observatory position vector given ECEF frame $\\textit{OXYZ}$.\n",
    "\n",
    "$\\mathbf{R}_{sat}$ represents satellites position vector given ECEF frame $\\textit{OXYZ}$.\n",
    "\n",
    "In order to find azimuth and elevation of a satellite for a particular time step the following procedure is used:\n",
    "\n",
    "1. Propagate satellite state to obtain satellite position $\\mathbf{R}_{sat}$ at time t. \n",
    "    Let us use SGP4 propagator that utilizes NORAD TLE as an input as a standard in the aerospace industry. The SGP4 outputs position and velocity given in ECI frame (TEME). It should be converted to ECEF frame where there observatory location is represented.\n",
    "2. Find vector $\\mathbf{r}$ pointing from the observatory to the satellite.\n",
    "3. Find satellite azimuth $\\alpha$ and elevation $\\beta$ as seen from the observatory by transforming $\\mathbf{r}$ to local reference frame $\\textit{oxyz}$ and then calculating the required angles as shown in illustration above.\n",
    "   \n",
    "Repeat the routine to obtain relative satellite trajectory arc, namely $\\alpha(t)$, $\\beta(t)$.\n",
    "\n",
    "In order to find a set of satellites visible at the observatory for a given time span $\\Delta t$ the following procedure is used:\n",
    "1. Propagate satellite state for the time span $\\Delta t$\n",
    "2. Convert observatory position vector to ECI frame to for a given time span for further line-of-sight analysis\n",
    "3. Calculate satellite elevation $\\beta$ during the time span\n",
    "4. A set of satellites is defined by the constraint $\\beta > \\beta_{min}$, where $\\beta_{min}$ is critical satellite elevation for the observations.\n",
    "\n",
    "\n",
    "TODO:\n",
    "1. Check SGPF4 documentation and provide propagator precison position. Add data to the notebook description (Fatima, Shamil)\n",
    "2. A routine to calculate satellite elevation and discard a satellite if it has no elevation above certain threshold, $\\beta_{min}$ (Shami, Fatima)\n",
    "3. For a feasible satellite provide satellite position data for viable observation time when satellite is above minimum required elevation (Shamil, Fatima)"
   ]
  },
  {
   "cell_type": "code",
   "execution_count": 2,
   "id": "2569d794-11cb-4a1b-88db-d4c14e968a7e",
   "metadata": {
    "tags": []
   },
   "outputs": [
    {
     "name": "stdout",
     "output_type": "stream",
     "text": [
      "[[3359439.45277626]\n",
      " [4742865.78015446]\n",
      " [2609434.12115561]] 6371009.0\n"
     ]
    }
   ],
   "source": [
    "from consts import *\n",
    "import numpy as np\n",
    "\n",
    "# Defines location of the observatory \n",
    "# Data are taken from google map, Add data from Konstantin\n",
    "latitude_obs = 24.178416871640632 * np.pi / 180\n",
    "longitude_obs = 54.68951437347364 * np.pi / 180\n",
    "\n",
    "# The position vector is given for the case of spherical Earth, meaning Earth oblateness is not taken into account. This can be later improved\n",
    "r_obs_ecef = np.vstack([Consts.rEarth * np.cos(latitude_obs) * np.cos(longitude_obs), Consts.rEarth * np.cos(latitude_obs) * np.sin(longitude_obs), Consts.rEarth * np.sin(latitude_obs)])  \n",
    "\n",
    "r_obs_ecef_mag = np.linalg.norm(r_obs_ecef)\n",
    "\n",
    "print(r_obs_ecef, r_obs_ecef_mag)"
   ]
  },
  {
   "cell_type": "code",
   "execution_count": 3,
   "id": "2338f79e-1b2e-4ad7-9488-7dc71281f5d5",
   "metadata": {
    "tags": []
   },
   "outputs": [
    {
     "name": "stdout",
     "output_type": "stream",
     "text": [
      "['2024-11-01 13:00:00', '2024-11-01 13:00:30', '2024-11-01 13:01:00', '2024-11-01 13:01:30', '2024-11-01 13:02:00', '2024-11-01 13:02:30', '2024-11-01 13:03:00', '2024-11-01 13:03:30', '2024-11-01 13:04:00', '2024-11-01 13:04:30', '2024-11-01 13:05:00', '2024-11-01 13:05:30', '2024-11-01 13:06:00', '2024-11-01 13:06:30', '2024-11-01 13:07:00', '2024-11-01 13:07:30', '2024-11-01 13:08:00', '2024-11-01 13:08:30', '2024-11-01 13:09:00', '2024-11-01 13:09:30', '2024-11-01 13:10:00', '2024-11-01 13:10:30', '2024-11-01 13:11:00', '2024-11-01 13:11:30', '2024-11-01 13:12:00', '2024-11-01 13:12:30', '2024-11-01 13:13:00', '2024-11-01 13:13:30', '2024-11-01 13:14:00', '2024-11-01 13:14:30', '2024-11-01 13:15:00', '2024-11-01 13:15:30', '2024-11-01 13:16:00', '2024-11-01 13:16:30', '2024-11-01 13:17:00', '2024-11-01 13:17:30', '2024-11-01 13:18:00', '2024-11-01 13:18:30', '2024-11-01 13:19:00', '2024-11-01 13:19:30', '2024-11-01 13:20:00', '2024-11-01 13:20:30', '2024-11-01 13:21:00', '2024-11-01 13:21:30', '2024-11-01 13:22:00', '2024-11-01 13:22:30', '2024-11-01 13:23:00', '2024-11-01 13:23:30', '2024-11-01 13:24:00', '2024-11-01 13:24:30', '2024-11-01 13:25:00', '2024-11-01 13:25:30', '2024-11-01 13:26:00', '2024-11-01 13:26:30', '2024-11-01 13:27:00', '2024-11-01 13:27:30', '2024-11-01 13:28:00', '2024-11-01 13:28:30', '2024-11-01 13:29:00', '2024-11-01 13:29:30', '2024-11-01 13:30:00', '2024-11-01 13:30:30', '2024-11-01 13:31:00', '2024-11-01 13:31:30', '2024-11-01 13:32:00', '2024-11-01 13:32:30', '2024-11-01 13:33:00', '2024-11-01 13:33:30', '2024-11-01 13:34:00', '2024-11-01 13:34:30', '2024-11-01 13:35:00', '2024-11-01 13:35:30', '2024-11-01 13:36:00', '2024-11-01 13:36:30', '2024-11-01 13:37:00', '2024-11-01 13:37:30', '2024-11-01 13:38:00', '2024-11-01 13:38:30', '2024-11-01 13:39:00', '2024-11-01 13:39:30', '2024-11-01 13:40:00', '2024-11-01 13:40:30', '2024-11-01 13:41:00', '2024-11-01 13:41:30', '2024-11-01 13:42:00', '2024-11-01 13:42:30', '2024-11-01 13:43:00', '2024-11-01 13:43:30', '2024-11-01 13:44:00', '2024-11-01 13:44:30', '2024-11-01 13:45:00', '2024-11-01 13:45:30', '2024-11-01 13:46:00', '2024-11-01 13:46:30', '2024-11-01 13:47:00', '2024-11-01 13:47:30', '2024-11-01 13:48:00', '2024-11-01 13:48:30', '2024-11-01 13:49:00', '2024-11-01 13:49:30', '2024-11-01 13:50:00', '2024-11-01 13:50:30', '2024-11-01 13:51:00', '2024-11-01 13:51:30', '2024-11-01 13:52:00', '2024-11-01 13:52:30', '2024-11-01 13:53:00', '2024-11-01 13:53:30', '2024-11-01 13:54:00', '2024-11-01 13:54:30', '2024-11-01 13:55:00', '2024-11-01 13:55:30', '2024-11-01 13:56:00', '2024-11-01 13:56:30', '2024-11-01 13:57:00', '2024-11-01 13:57:30', '2024-11-01 13:58:00', '2024-11-01 13:58:30', '2024-11-01 13:59:00', '2024-11-01 13:59:30', '2024-11-01 14:00:00', '2024-11-01 14:00:30', '2024-11-01 14:01:00', '2024-11-01 14:01:30', '2024-11-01 14:02:00', '2024-11-01 14:02:30', '2024-11-01 14:03:00', '2024-11-01 14:03:30', '2024-11-01 14:04:00', '2024-11-01 14:04:30', '2024-11-01 14:05:00', '2024-11-01 14:05:30', '2024-11-01 14:06:00', '2024-11-01 14:06:30', '2024-11-01 14:07:00', '2024-11-01 14:07:30', '2024-11-01 14:08:00', '2024-11-01 14:08:30', '2024-11-01 14:09:00', '2024-11-01 14:09:30', '2024-11-01 14:10:00', '2024-11-01 14:10:30', '2024-11-01 14:11:00', '2024-11-01 14:11:30', '2024-11-01 14:12:00', '2024-11-01 14:12:30', '2024-11-01 14:13:00', '2024-11-01 14:13:30', '2024-11-01 14:14:00', '2024-11-01 14:14:30', '2024-11-01 14:15:00', '2024-11-01 14:15:30', '2024-11-01 14:16:00', '2024-11-01 14:16:30', '2024-11-01 14:17:00', '2024-11-01 14:17:30', '2024-11-01 14:18:00', '2024-11-01 14:18:30', '2024-11-01 14:19:00', '2024-11-01 14:19:30', '2024-11-01 14:20:00', '2024-11-01 14:20:30', '2024-11-01 14:21:00', '2024-11-01 14:21:30', '2024-11-01 14:22:00', '2024-11-01 14:22:30', '2024-11-01 14:23:00', '2024-11-01 14:23:30', '2024-11-01 14:24:00', '2024-11-01 14:24:30', '2024-11-01 14:25:00', '2024-11-01 14:25:30', '2024-11-01 14:26:00', '2024-11-01 14:26:30', '2024-11-01 14:27:00', '2024-11-01 14:27:30', '2024-11-01 14:28:00', '2024-11-01 14:28:30', '2024-11-01 14:29:00', '2024-11-01 14:29:30', '2024-11-01 14:30:00', '2024-11-01 14:30:30', '2024-11-01 14:31:00', '2024-11-01 14:31:30', '2024-11-01 14:32:00', '2024-11-01 14:32:30', '2024-11-01 14:33:00', '2024-11-01 14:33:30', '2024-11-01 14:34:00', '2024-11-01 14:34:30', '2024-11-01 14:35:00', '2024-11-01 14:35:30', '2024-11-01 14:36:00', '2024-11-01 14:36:30', '2024-11-01 14:37:00', '2024-11-01 14:37:30', '2024-11-01 14:38:00', '2024-11-01 14:38:30', '2024-11-01 14:39:00', '2024-11-01 14:39:30', '2024-11-01 14:40:00', '2024-11-01 14:40:30', '2024-11-01 14:41:00', '2024-11-01 14:41:30', '2024-11-01 14:42:00', '2024-11-01 14:42:30', '2024-11-01 14:43:00', '2024-11-01 14:43:30', '2024-11-01 14:44:00', '2024-11-01 14:44:30', '2024-11-01 14:45:00', '2024-11-01 14:45:30', '2024-11-01 14:46:00', '2024-11-01 14:46:30', '2024-11-01 14:47:00', '2024-11-01 14:47:30', '2024-11-01 14:48:00', '2024-11-01 14:48:30', '2024-11-01 14:49:00', '2024-11-01 14:49:30', '2024-11-01 14:50:00', '2024-11-01 14:50:30', '2024-11-01 14:51:00', '2024-11-01 14:51:30', '2024-11-01 14:52:00', '2024-11-01 14:52:30', '2024-11-01 14:53:00', '2024-11-01 14:53:30', '2024-11-01 14:54:00', '2024-11-01 14:54:30', '2024-11-01 14:55:00', '2024-11-01 14:55:30', '2024-11-01 14:56:00', '2024-11-01 14:56:30', '2024-11-01 14:57:00', '2024-11-01 14:57:30', '2024-11-01 14:58:00', '2024-11-01 14:58:30', '2024-11-01 14:59:00', '2024-11-01 14:59:30', '2024-11-01 15:00:00']\n"
     ]
    }
   ],
   "source": [
    "# Define observation time span\n",
    "\n",
    "from datetime import datetime, timedelta\n",
    "from astropy.time import Time\n",
    "import pandas as pd\n",
    "\n",
    "# Define start and end date with specific time\n",
    "# Datetime is given in UTC format\n",
    "# Abu Dhabi time zone is UTC+4\n",
    "\n",
    "start_date = \"2024-11-01 13:00:00\" # given in UTC\n",
    "end_date = \"2024-11-01 15:00:00\"   # given in UTC\n",
    "\n",
    "# Generates a range of datetimes with certain frequency\n",
    "t_span = pd.date_range(start=start_date, end=end_date, freq='30s')\n",
    "\n",
    "# Converts to a list of strings if needed?\n",
    "gregorian_dates = t_span.strftime(\"%Y-%m-%d %H:%M:%S\").tolist()\n",
    "\n",
    "# Converts to Julian Date\n",
    "julian_dates = Time(gregorian_dates, format='iso').jd\n",
    "\n",
    "print(gregorian_dates)"
   ]
  },
  {
   "cell_type": "code",
   "execution_count": 39,
   "id": "3a886297-3b94-4bb5-8afd-b108a08e95e4",
   "metadata": {
    "tags": []
   },
   "outputs": [
    {
     "ename": "NameError",
     "evalue": "name 'r_obs_eci_mag_array' is not defined",
     "output_type": "error",
     "traceback": [
      "\u001b[0;31m---------------------------------------------------------------------------\u001b[0m",
      "\u001b[0;31mNameError\u001b[0m                                 Traceback (most recent call last)",
      "Cell \u001b[0;32mIn[39], line 34\u001b[0m\n\u001b[1;32m      7\u001b[0m r \u001b[38;5;241m=\u001b[39m ecef_to_eci(r_obs_ecef, observation[\u001b[38;5;241m10\u001b[39m])\n\u001b[1;32m      9\u001b[0m \u001b[38;5;66;03m# r_obs_eci_array = np.concatenate((r_obs_eci_array, r), axis=1)\u001b[39;00m\n\u001b[1;32m     10\u001b[0m \u001b[38;5;66;03m# r_obs_eci_array = np.concatenate((r_obs_eci_array, r), axis=1)\u001b[39;00m\n\u001b[1;32m     11\u001b[0m \n\u001b[0;32m   (...)\u001b[0m\n\u001b[1;32m     31\u001b[0m \u001b[38;5;66;03m# r_obs_eci_mag_array = np.linalg.norm(r_obs_eci_array, axis=0)\u001b[39;00m\n\u001b[1;32m     32\u001b[0m \u001b[38;5;66;03m# print(r_obs_eci_mag_array)\u001b[39;00m\n\u001b[0;32m---> 34\u001b[0m \u001b[38;5;28mprint\u001b[39m(r_obs_eci_mag_array)\n",
      "\u001b[0;31mNameError\u001b[0m: name 'r_obs_eci_mag_array' is not defined"
     ]
    }
   ],
   "source": [
    "from conversions import *\n",
    "\n",
    "# calculates station coordinates in ECI for the given time span\n",
    "\n",
    "r_obs_eci_array = np.empty([3, 0], float)\n",
    "\n",
    "r = ecef_to_eci(r_obs_ecef, observation[10])\n",
    "\n",
    "# r_obs_eci_array = np.concatenate((r_obs_eci_array, r), axis=1)\n",
    "# r_obs_eci_array = np.concatenate((r_obs_eci_array, r), axis=1)\n",
    "\n",
    "# print(r_obs_eci_array)\n",
    "\n",
    "#for gd in gregorian_dates:\n",
    "\n",
    "    #r_obs_eci_array = np.concatenate((r_obs_eci_array, ecef_to_eci(r_obs_ecef, gd)), axis=1)\n",
    "    \n",
    "    \n",
    "# print(np.repeat(r_obs_ecef, np.size(gregorian_dates), axis=1))\n",
    "# print(a)\n",
    "\n",
    "# for jd in julian_dates:\n",
    "    \n",
    "#     julian_century = (jd - 2451545.0) / 36525.0\n",
    "#     ecef_to_eci_rotation = rotation_matrix_ecef_to_eci(julian_century)\n",
    "#     ecef_to_eci(r_obs_ecef, gregorian_dates[0])\n",
    "#     r_obs_eci_array = np.concatenate((r_obs_eci_array, np.matmul(ecef_to_eci_rotation, r_obs_ecef)), axis=1)\n",
    "    \n",
    "# # print(np.size(r_obs_eci_array, axis=1))\n",
    "\n",
    "# r_obs_eci_mag_array = np.linalg.norm(r_obs_eci_array, axis=0)\n",
    "# print(r_obs_eci_mag_array)\n",
    "\n",
    "print(r_obs_eci_mag_array)\n",
    "\n",
    "# fig, ax = plt.subplots()\n",
    "# ax.plot(julian_dates, r_obs_eci_mag_array)\n",
    "# plt.show()\n",
    "\n",
    "# print(r_obs_eci_mag_array)\n",
    "\n",
    "# fig = plt.figure()\n",
    "# ax = fig.add_subplot(111, projection='3d')\n",
    "# ax.plot(r_obs_eci_array[0,:], r_obs_eci_array[1,:], r_obs_eci_array[2,:], label='Observatory position given in ECI')\n",
    "# ax.set(xlabel='x, m', ylabel='y, m', zlabel='z, m')\n",
    "# ax.grid()\n",
    "# ax.legend()\n",
    "# plt.show()\n",
    "# fig.savefig(\"observatory trajectory.png\")\n"
   ]
  },
  {
   "cell_type": "code",
   "execution_count": 9,
   "id": "5f1d560f-8cd5-44c9-958e-056687ba9768",
   "metadata": {
    "tags": []
   },
   "outputs": [
    {
     "ename": "NameError",
     "evalue": "name 'r_obs_ecef' is not defined",
     "output_type": "error",
     "traceback": [
      "\u001b[1;31m---------------------------------------------------------------------------\u001b[0m",
      "\u001b[1;31mNameError\u001b[0m                                 Traceback (most recent call last)",
      "Cell \u001b[1;32mIn[9], line 7\u001b[0m\n\u001b[0;32m      3\u001b[0m \u001b[38;5;66;03m# calculates station coordinates in ECI for the given time span\u001b[39;00m\n\u001b[0;32m      5\u001b[0m r_obs_eci_array \u001b[38;5;241m=\u001b[39m np\u001b[38;5;241m.\u001b[39mempty([\u001b[38;5;241m3\u001b[39m, \u001b[38;5;241m0\u001b[39m], \u001b[38;5;28mfloat\u001b[39m)\n\u001b[1;32m----> 7\u001b[0m r \u001b[38;5;241m=\u001b[39m ecef_to_eci(r_obs_ecef, gregorian_dates[\u001b[38;5;241m10\u001b[39m])\n\u001b[0;32m      9\u001b[0m \u001b[38;5;66;03m# r_obs_eci_array = np.concatenate((r_obs_eci_array, r), axis=1)\u001b[39;00m\n\u001b[0;32m     10\u001b[0m \u001b[38;5;66;03m# r_obs_eci_array = np.concatenate((r_obs_eci_array, r), axis=1)\u001b[39;00m\n\u001b[0;32m     11\u001b[0m \n\u001b[0;32m     12\u001b[0m \u001b[38;5;66;03m# print(r_obs_eci_array)\u001b[39;00m\n\u001b[0;32m     14\u001b[0m \u001b[38;5;28;01mfor\u001b[39;00m gd \u001b[38;5;129;01min\u001b[39;00m gregorian_dates:\n",
      "\u001b[1;31mNameError\u001b[0m: name 'r_obs_ecef' is not defined"
     ]
    }
   ],
   "source": [
    "from conversions import *\n",
    "\n",
    "# calculates station coordinates in ECI for the given time span\n",
    "\n",
    "r_obs_eci_array = np.empty([3, 0], float)\n",
    "\n",
    "r = ecef_to_eci(r_obs_ecef, gregorian_dates[10])\n",
    "\n",
    "# r_obs_eci_array = np.concatenate((r_obs_eci_array, r), axis=1)\n",
    "# r_obs_eci_array = np.concatenate((r_obs_eci_array, r), axis=1)\n",
    "\n",
    "# print(r_obs_eci_array)\n",
    "\n",
    "for gd in gregorian_dates:\n",
    "\n",
    "    r_obs_eci_array = np.concatenate((r_obs_eci_array, ecef_to_eci(r_obs_ecef, gd)), axis=1)\n",
    "    \n",
    "    \n",
    "# print(np.repeat(r_obs_ecef, np.size(gregorian_dates), axis=1))\n",
    "# print(a)\n",
    "\n",
    "# for jd in julian_dates:\n",
    "    \n",
    "#     julian_century = (jd - 2451545.0) / 36525.0\n",
    "#     ecef_to_eci_rotation = rotation_matrix_ecef_to_eci(julian_century)\n",
    "#     ecef_to_eci(r_obs_ecef, gregorian_dates[0])\n",
    "#     r_obs_eci_array = np.concatenate((r_obs_eci_array, np.matmul(ecef_to_eci_rotation, r_obs_ecef)), axis=1)\n",
    "    \n",
    "# # print(np.size(r_obs_eci_array, axis=1))\n",
    "\n",
    "# r_obs_eci_mag_array = np.linalg.norm(r_obs_eci_array, axis=0)\n",
    "# print(r_obs_eci_mag_array)\n",
    "\n",
    "fig, ax = plt.subplots()\n",
    "ax.plot(julian_dates, r_obs_eci_mag_array)\n",
    "plt.show()\n",
    "\n",
    "print(r_obs_eci_mag_array)\n",
    "\n",
    "# fig = plt.figure()\n",
    "# ax = fig.add_subplot(111, projection='3d')\n",
    "# ax.plot(r_obs_eci_array[0,:], r_obs_eci_array[1,:], r_obs_eci_array[2,:], label='Observatory position given in ECI')\n",
    "# ax.set(xlabel='x, m', ylabel='y, m', zlabel='z, m')\n",
    "# ax.grid()\n",
    "# ax.legend()\n",
    "# plt.show()\n",
    "# fig.savefig(\"observatory trajectory.png\")\n"
   ]
  },
  {
   "cell_type": "code",
   "execution_count": 11,
   "id": "7ae555c4-97f7-4fd4-b6c1-1a1c5db83a11",
   "metadata": {
    "tags": []
   },
   "outputs": [
    {
     "ename": "NameError",
     "evalue": "name 'r_obs_ecef' is not defined",
     "output_type": "error",
     "traceback": [
      "\u001b[1;31m---------------------------------------------------------------------------\u001b[0m",
      "\u001b[1;31mNameError\u001b[0m                                 Traceback (most recent call last)",
      "Cell \u001b[1;32mIn[11], line 7\u001b[0m\n\u001b[0;32m      3\u001b[0m \u001b[38;5;66;03m# calculates station coordinates in ECI for the given time span\u001b[39;00m\n\u001b[0;32m      5\u001b[0m r_obs_eci_array \u001b[38;5;241m=\u001b[39m np\u001b[38;5;241m.\u001b[39mempty([\u001b[38;5;241m3\u001b[39m, \u001b[38;5;241m0\u001b[39m], \u001b[38;5;28mfloat\u001b[39m)\n\u001b[1;32m----> 7\u001b[0m r \u001b[38;5;241m=\u001b[39m ecef_to_eci(r_obs_ecef, gregorian_dates[\u001b[38;5;241m10\u001b[39m])\n\u001b[0;32m      9\u001b[0m \u001b[38;5;66;03m# r_obs_eci_array = np.concatenate((r_obs_eci_array, r), axis=1)\u001b[39;00m\n\u001b[0;32m     10\u001b[0m \u001b[38;5;66;03m# r_obs_eci_array = np.concatenate((r_obs_eci_array, r), axis=1)\u001b[39;00m\n\u001b[0;32m     11\u001b[0m \n\u001b[0;32m     12\u001b[0m \u001b[38;5;66;03m# print(r_obs_eci_array)\u001b[39;00m\n\u001b[0;32m     14\u001b[0m \u001b[38;5;28;01mfor\u001b[39;00m gd \u001b[38;5;129;01min\u001b[39;00m gregorian_dates:\n",
      "\u001b[1;31mNameError\u001b[0m: name 'r_obs_ecef' is not defined"
     ]
    }
   ],
   "source": [
    "from conversions import *\n",
    "\n",
    "# calculates station coordinates in ECI for the given time span\n",
    "\n",
    "r_obs_eci_array = np.empty([3, 0], float)\n",
    "\n",
    "r = ecef_to_eci(r_obs_ecef, gregorian_dates[10])\n",
    "\n",
    "# r_obs_eci_array = np.concatenate((r_obs_eci_array, r), axis=1)\n",
    "# r_obs_eci_array = np.concatenate((r_obs_eci_array, r), axis=1)\n",
    "\n",
    "# print(r_obs_eci_array)\n",
    "\n",
    "for gd in gregorian_dates:\n",
    "\n",
    "    r_obs_eci_array = np.concatenate((r_obs_eci_array, ecef_to_eci(r_obs_ecef, gd)), axis=1)\n",
    "    \n",
    "    \n",
    "# print(np.repeat(r_obs_ecef, np.size(gregorian_dates), axis=1))\n",
    "# print(a)\n",
    "\n",
    "# for jd in julian_dates:\n",
    "    \n",
    "#     julian_century = (jd - 2451545.0) / 36525.0\n",
    "#     ecef_to_eci_rotation = rotation_matrix_ecef_to_eci(julian_century)\n",
    "#     ecef_to_eci(r_obs_ecef, gregorian_dates[0])\n",
    "#     r_obs_eci_array = np.concatenate((r_obs_eci_array, np.matmul(ecef_to_eci_rotation, r_obs_ecef)), axis=1)\n",
    "    \n",
    "# # print(np.size(r_obs_eci_array, axis=1))\n",
    "\n",
    "# r_obs_eci_mag_array = np.linalg.norm(r_obs_eci_array, axis=0)\n",
    "# print(r_obs_eci_mag_array)\n",
    "\n",
    "fig, ax = plt.subplots()\n",
    "ax.plot(julian_dates, r_obs_eci_mag_array)\n",
    "plt.show()\n",
    "\n",
    "print(r_obs_eci_mag_array)\n",
    "\n",
    "# fig = plt.figure()\n",
    "# ax = fig.add_subplot(111, projection='3d')\n",
    "# ax.plot(r_obs_eci_array[0,:], r_obs_eci_array[1,:], r_obs_eci_array[2,:], label='Observatory position given in ECI')\n",
    "# ax.set(xlabel='x, m', ylabel='y, m', zlabel='z, m')\n",
    "# ax.grid()\n",
    "# ax.legend()\n",
    "# plt.show()\n",
    "# fig.savefig(\"observatory trajectory.png\")\n"
   ]
  },
  {
   "cell_type": "code",
   "execution_count": 11,
   "id": "ffbebf3d-d77a-424a-9aaf-0b86590c0302",
   "metadata": {
    "tags": []
   },
   "outputs": [],
   "source": [
    "# Propagats satellite state using SGP4 propagator for the given time span\n",
    "\n",
    "import numpy as np\n",
    "from sgp4.api import Satrec\n",
    "\n",
    "with open('TLE.txt', 'r') as file:\n",
    "    lines = [line.strip() for line in file]\n",
    "\n",
    "for satIndx in range(len(lines) // 3):\n",
    "    TleFirstLine = lines[satIndx * 3 + 1]\n",
    "    TleSecondLine = lines[satIndx * 3 + 2]\n",
    "\n",
    "    satellite = Satrec.twoline2rv(TleFirstLine, TleSecondLine)\n",
    "    \n",
    "    # Propagates satellite state for the t_span\n",
    "    positionsX = []\n",
    "    positionsY = []\n",
    "    positionsZ = []\n",
    "    \n",
    "    r_sat_eci_array = np.empty([3, 0], float)\n",
    "    \n",
    "    for jd in julian_dates:\n",
    "    \n",
    "        # Propagate\n",
    "        e, r, v = satellite.sgp4(jd, 0)\n",
    "        \n",
    "        if e == 0:\n",
    "            positionsX.append(r[0] * 1e3)\n",
    "            positionsY.append(r[1] * 1e3)\n",
    "            positionsZ.append(r[2] * 1e3)\n",
    "        \n",
    "            r_sat_eci_array = np.concatenate((r_sat_eci_array, np.vstack([r[0] * 1e3, r[1] * 1e3, r[2] * 1e3])), axis=1)\n",
    "    \n",
    "        else:\n",
    "            positionsX.append(None)  # Error in propagation\n",
    "            positionsY.append(None)  # Error in propagation\n",
    "            positionsY.append(None)  # Error in propagation\n",
    "    \n",
    "    gregorian_dates = Time(julian_dates, format='jd').to_datetime()\n",
    "    \n",
    "    satData = np.array([gregorian_dates, positionsX, positionsY, positionsZ]).T\n",
    "    \n",
    "    sat = pd.DataFrame(satData, columns=[\"Date and Time\", \"                  X, km\", \"                    Y, km\", \"                  Z, km\"])\n",
    "\n",
    "    filename = f'{lines[satIndx * 3]}_data.txt'  # Creates filenames like 'satellite1_data.txt', 'satellite2_data.txt', etc.\n",
    "    sat.to_csv(filename, sep='\\t', index=False)\n",
    "\n",
    "\n",
    "# print(sat1)\n",
    "# fig = plt.figure()\n",
    "# ax = fig.add_subplot(111, projection='3d')\n",
    "\n",
    "# ax.plot(r_sat_eci_array[0,:], r_sat_eci_array[1,:], r_sat_eci_array[2,:], label='satellite trajectory given in ECI')\n",
    "# ax.set(xlabel='x, m', ylabel='y, m', zlabel='z, m')\n",
    "# ax.grid()\n",
    "# ax.legend()\n",
    "# plt.show()\n",
    "# plt.savefig(\"satellite trajectory.pdf\")\n",
    "\n",
    "# print(r_sat_eci_array[:, 0])\n",
    "# print(\"Satellite 1 Position Data\")\n",
    "# print(sat1)\n",
    "\n",
    "# print(np.size(r_sat_eci_array, axis=1))"
   ]
  },
  {
   "cell_type": "code",
   "execution_count": 7,
   "id": "a8d9c1bd-ec02-4b61-9e39-ae384f9225ba",
   "metadata": {},
   "outputs": [
    {
     "name": "stdout",
     "output_type": "stream",
     "text": [
      "<Time tt=2460615.000800741>\n",
      "2460615.0\n"
     ]
    }
   ],
   "source": [
    "# define sun elevation angle with respect to observation point \n",
    "from skyfield.api import load, Topos\n",
    "\n",
    "# Load ephemeris data (required for accurate positions)\n",
    "eph = load('de421.bsp')  # DE421 ephemeris, can be downloaded by Skyfield if not already cached\n",
    "earth, sun = eph['earth'], eph['sun']\n",
    "\n",
    "# Compute Sun's position relative to Earth\n",
    " for jd in julian_dates:\n",
    "     \n",
    "    astrometric = earth.at(date).observe(sun)\n",
    "    distance, sun_vector = astrometric.distance().km, astrometric.position.km  # Get position vector in km\n",
    "    \n",
    "# Display results\n",
    "#print(\"Sun's Position Vector (km):\", sun_vector)\n",
    "\n",
    "\n",
    "\n"
   ]
  },
  {
   "cell_type": "code",
   "execution_count": 41,
   "id": "d5f5e325-2a99-45d4-9110-105726d85104",
   "metadata": {
    "tags": []
   },
   "outputs": [
    {
     "name": "stdout",
     "output_type": "stream",
     "text": [
      "6601\n"
     ]
    },
    {
     "data": {
      "image/png": "[encoded data removed]",
      "text/plain": [
       "<Figure size 640x480 with 1 Axes>"
      ]
     },
     "metadata": {},
     "output_type": "display_data"
    }
   ],
   "source": [
    "# Calculates satellite elevation \\beta for the given t_span\n",
    "# Check if satellite goes above minimum required elevation\n",
    "\n",
    "# r_relative = r_sat_eci_array[:, 0] - r_obs_eci_array[:, 0]\n",
    "# e_relative = r_relative / np.linalg.norm(r_relative)\n",
    "\n",
    "# e_sat = r_sat_eci_array[:, 0] / np.linalg.norm(r_sat_eci_array[:, 0])\n",
    "\n",
    "# elevation = np.pi / 2 - np.arccos(np.dot(e_sat, e_relative))\n",
    "\n",
    "# print(elevation)\n",
    "\n",
    "elevation_array = []\n",
    "elevation_array_deg = []\n",
    "\n",
    "print(np.size(r_sat_eci_array, axis=1))\n",
    "\n",
    "for time_idx in range(np.size(julian_dates)):\n",
    "\n",
    "    r_relative = r_sat_eci_array[:, time_idx] - r_obs_eci_array[:, time_idx]\n",
    "    e_relative = r_relative / np.linalg.norm(r_relative)\n",
    "    e_sat = r_sat_eci_array[:, 0] / np.linalg.norm(r_sat_eci_array[:, 0])\n",
    "\n",
    "    elevation_array.append(np.pi / 2 - np.arccos(np.dot(e_sat, e_relative)))\n",
    "    elevation_array_deg.append((np.pi / 2 - np.arccos(np.dot(e_sat, e_relative))) * 180 / np.pi)\n",
    "\n",
    "condition = elevation_array > np.repeat(0, np.size(julian_dates))\n",
    "\n",
    "import matplotlib.pyplot as plt\n",
    "import numpy as np\n",
    "\n",
    "fig, ax = plt.subplots()\n",
    "ax.plot(julian_dates, elevation_array_deg)\n",
    "\n",
    "ax.set(xlabel='time (jd)', ylabel='satellite elevation, deg',\n",
    "       title='Satellite elevation for the observation time span')\n",
    "ax.grid()\n",
    "\n",
    "fig.savefig(\"test.png\")\n",
    "plt.show()"
   ]
  },
  {
   "cell_type": "code",
   "execution_count": 22,
   "id": "808bf540-227c-4d28-97cc-e7835cf64261",
   "metadata": {
    "tags": []
   },
   "outputs": [
    {
     "name": "stdout",
     "output_type": "stream",
     "text": [
      "0 0\n",
      "[[-0.  1.  0.]\n",
      " [-0. -0.  1.]\n",
      " [ 1.  0.  0.]]\n"
     ]
    },
    {
     "ename": "NameError",
     "evalue": "name 'R_ECEF' is not defined",
     "output_type": "error",
     "traceback": [
      "\u001b[0;31m---------------------------------------------------------------------------\u001b[0m",
      "\u001b[0;31mNameError\u001b[0m                                 Traceback (most recent call last)",
      "Cell \u001b[0;32mIn[22], line 13\u001b[0m\n\u001b[1;32m     10\u001b[0m \u001b[38;5;28mprint\u001b[39m(A)\n\u001b[1;32m     11\u001b[0m Rsat \u001b[38;5;241m=\u001b[39m np\u001b[38;5;241m.\u001b[39mvstack([positionsX[\u001b[38;5;241m0\u001b[39m], positionsY[\u001b[38;5;241m0\u001b[39m], positionsZ[\u001b[38;5;241m0\u001b[39m]])\n\u001b[0;32m---> 13\u001b[0m r \u001b[38;5;241m=\u001b[39m R_ECEF \u001b[38;5;241m-\u001b[39m Robs\n\u001b[1;32m     15\u001b[0m rTransformed \u001b[38;5;241m=\u001b[39m np\u001b[38;5;241m.\u001b[39mmatmul(A, r)\n\u001b[1;32m     17\u001b[0m az, decl \u001b[38;5;241m=\u001b[39m calc_local_azimuth_and_declination(rTransformed)\n",
      "\u001b[0;31mNameError\u001b[0m: name 'R_ECEF' is not defined"
     ]
    }
   ],
   "source": [
    "import numpy as np\n",
    "from calc_local_bases_axes import *\n",
    "\n",
    "lat = 0\n",
    "lon = 0\n",
    "print(lat, lon)\n",
    "\n",
    "A = calc_local_bases_axes(lat, lon)\n",
    "\n",
    "print(A)\n",
    "Rsat = np.vstack([positionsX[0], positionsY[0], positionsZ[0]])\n",
    "\n",
    "r = R_ECEF - Robs\n",
    "\n",
    "rTransformed = np.matmul(A, r)\n",
    "\n",
    "az, decl = calc_local_azimuth_and_declination(rTransformed)\n",
    "\n",
    "# print(r)\n",
    "\n",
    "# print(rTransformed)\n",
    "\n",
    "print(az * 180 / np.pi, decl * 180 / np.pi)"
   ]
  },
  {
   "cell_type": "code",
   "execution_count": 7,
   "id": "668f1483-8e5e-4a21-804c-4e6ccdc43eb1",
   "metadata": {
    "tags": []
   },
   "outputs": [
    {
     "name": "stdout",
     "output_type": "stream",
     "text": [
      "[[ 2.07067703e-01  9.78324511e-01  2.02939438e-03]\n",
      " [-9.78326529e-01  2.07068110e-01  9.76248199e-06]\n",
      " [-4.10671983e-04 -1.98743186e-03  9.99997941e-01]]\n"
     ]
    }
   ],
   "source": [
    "from datetime import datetime, timedelta\n",
    "\n",
    "from conversions import *\n",
    "\n",
    "# Convert UTC time to Julian Century\n",
    "observation_time =  datetime(year=2021, month=3, day=19, hour=7, second=41)\n",
    "julian_date = utc_time_to_julian_date(observation_time)\n",
    "julian_century = (julian_date - 2451545.0) / 36525.0\n",
    "\n",
    "# Compute the rotation matrix\n",
    "ecef_to_eci_rotation = rotation_matrix_ecef_to_eci(julian_century)\n",
    "print(ecef_to_eci_rotation)"
   ]
  },
  {
   "cell_type": "code",
   "execution_count": null,
   "id": "9235b972-656e-4f70-a5bf-3c057afdf8b9",
   "metadata": {
    "tags": []
   },
   "outputs": [],
   "source": []
  },
  {
   "cell_type": "code",
   "execution_count": null,
   "id": "4ec864ff-b4fd-44f0-ba35-55a157e7e2b9",
   "metadata": {},
   "outputs": [],
   "source": []
  }
 ],
 "metadata": {
  "kernelspec": {
   "display_name": "Python 3 (ipykernel)",
   "language": "python",
   "name": "python3"
  },
  "language_info": {
   "codemirror_mode": {
    "name": "ipython",
    "version": 3
   },
   "file_extension": ".py",
   "mimetype": "text/x-python",
   "name": "python",
   "nbconvert_exporter": "python",
   "pygments_lexer": "ipython3",
   "version": "3.12.7"
  }
 },
 "nbformat": 4,
 "nbformat_minor": 5
}
