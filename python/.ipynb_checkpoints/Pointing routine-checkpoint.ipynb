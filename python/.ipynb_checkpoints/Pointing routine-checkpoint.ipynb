{
 "cells": [
  {
   "cell_type": "markdown",
   "id": "daf16b9a",
   "metadata": {},
   "source": [
    "The notebook outlines the telescope pointing routine to a LEO satellite from NORAD catalogue based on Two-Line Elements (TLE) data. The illustration below shows the baseline geometry of the mathematical model.\n",
    "\n",
    "<!-- ![pointing_geometry.png](attachment:pointing_geometry.png) -->\n",
    "<img src=\"pointing_geometry.png\" width=\"500\" height=\"340\"> \n",
    "\n",
    "Two reference frame are depicted. Earth-centered Earth-fixed (ECEF) denoted as $\\textit{OXYZ}$ is used to specify the location of the observatory on the Earth. Local reference frame $\\textit{oxyz}$ originated at the observatory location, x-axis points toward North, z-axis points to zenith, y-axis completes orthonormal reference frame. The reference frame is used to specify azimuth and elevation of a satellite as seen from the observatory location.\n",
    "\n",
    "\n",
    "$\\mathbf{R}_{obs}$ represents observatory position vector given ECEF frame $\\textit{OXYZ}$.\n",
    "\n",
    "$\\mathbf{R}_{sat}$ represents satellites position vector given ECEF frame $\\textit{OXYZ}$.\n",
    "\n",
    "In order to find azimuth and declination of a satellite for a particular time step the following procedure is used:\n",
    "\n",
    "1. Propagate satellite state to obtain satellite position $\\mathbf{R}_{sat}$ at time t. \n",
    "    Let's use SGP4 propagator that utilizes NORAD TLE as an input as a standard in the aerospace industry. The SGP4 outputs position and velocity given in ECI frame. It should be converted to ECEF frame where there observatory location is represented.\n",
    "2. Find vector $\\mathbf{r}$ pointing from the observatory to the satellite.\n",
    "3. Find satellite azimuth $\\alpha$ and declination $\\beta$ as seen from the observatory by transforming $\\mathbf{r}$ to local reference frame $\\textit{oxyz}$ and then calculating the required angles as shown in illustration above.\n",
    "   \n",
    "Repeat the routine to obtain relative satellite trajectory arc, namely $\\alpha(t)$, $\\beta(t)$."
   ]
  },
  {
   "cell_type": "code",
   "execution_count": 6,
   "id": "808bf540-227c-4d28-97cc-e7835cf64261",
   "metadata": {
    "tags": []
   },
   "outputs": [
    {
     "name": "stdout",
     "output_type": "stream",
     "text": [
      "0 0\n",
      "[[-0.  1.  0.]\n",
      " [-0. -0.  1.]\n",
      " [ 1.  0.  0.]]\n",
      "[[0]\n",
      " [0]\n",
      " [1]]\n",
      "[[0.]\n",
      " [1.]\n",
      " [0.]]\n",
      "[-0.] [0.]\n"
     ]
    }
   ],
   "source": [
    "import numpy as np\n",
    "from calc_local_bases_axes import *\n",
    "\n",
    "lat = 0\n",
    "lon = 0\n",
    "print(lat, lon)\n",
    "\n",
    "A = calc_local_bases_axes(lat, lon)\n",
    "\n",
    "print(A)\n",
    "\n",
    "r = np.vstack([0, 0, 1])\n",
    "\n",
    "rTransformed = np.matmul(A, r)\n",
    "\n",
    "az, decl = calc_local_azimuth_and_declination(rTransformed)\n",
    "\n",
    "print(r)\n",
    "\n",
    "print(rTransformed)\n",
    "\n",
    "print(az, decl)"
   ]
  },
  {
   "cell_type": "code",
   "execution_count": 3,
   "id": "668f1483-8e5e-4a21-804c-4e6ccdc43eb1",
   "metadata": {
    "tags": []
   },
   "outputs": [
    {
     "ename": "AttributeError",
     "evalue": "module 'geneci' has no attribute 'utc_time_to_julian_date'",
     "output_type": "error",
     "traceback": [
      "\u001b[0;31m---------------------------------------------------------------------------\u001b[0m",
      "\u001b[0;31mAttributeError\u001b[0m                            Traceback (most recent call last)",
      "Cell \u001b[0;32mIn[3], line 7\u001b[0m\n\u001b[1;32m      5\u001b[0m \u001b[38;5;66;03m# Convert UTC time to Julian Century\u001b[39;00m\n\u001b[1;32m      6\u001b[0m observation_time \u001b[38;5;241m=\u001b[39m  datetime(year\u001b[38;5;241m=\u001b[39m\u001b[38;5;241m2021\u001b[39m, month\u001b[38;5;241m=\u001b[39m\u001b[38;5;241m3\u001b[39m, day\u001b[38;5;241m=\u001b[39m\u001b[38;5;241m19\u001b[39m, hour\u001b[38;5;241m=\u001b[39m\u001b[38;5;241m7\u001b[39m, second\u001b[38;5;241m=\u001b[39m\u001b[38;5;241m41\u001b[39m)\n\u001b[0;32m----> 7\u001b[0m julian_date \u001b[38;5;241m=\u001b[39m geneci\u001b[38;5;241m.\u001b[39mutc_time_to_julian_date(observation_time)\n\u001b[1;32m      8\u001b[0m julian_century \u001b[38;5;241m=\u001b[39m (julian_date \u001b[38;5;241m-\u001b[39m \u001b[38;5;241m2451545.0\u001b[39m) \u001b[38;5;241m/\u001b[39m \u001b[38;5;241m36525.0\u001b[39m\n\u001b[1;32m     10\u001b[0m \u001b[38;5;66;03m# Compute the rotation matrix\u001b[39;00m\n",
      "\u001b[0;31mAttributeError\u001b[0m: module 'geneci' has no attribute 'utc_time_to_julian_date'"
     ]
    }
   ],
   "source": [
    "from datetime import datetime, timedelta\n",
    "\n",
    "import geneci\n",
    "\n",
    "# # Convert UTC time to Julian Century\n",
    "# observation_time =  datetime(year=2021, month=3, day=19, hour=7, second=41)\n",
    "# julian_date = geneci.utc_time_to_julian_date(observation_time)\n",
    "# julian_century = (julian_date - 2451545.0) / 36525.0\n",
    "\n",
    "# # Compute the rotation matrix\n",
    "# ecef_to_eci_rotation = geneci.rotation_matrix_ecef_to_eci(julian_century)"
   ]
  },
  {
   "cell_type": "code",
   "execution_count": null,
   "id": "b165b765-5739-4b94-ab98-a9cab20f5573",
   "metadata": {},
   "outputs": [],
   "source": []
  },
  {
   "cell_type": "code",
   "execution_count": null,
   "id": "243beeff-8233-4496-9292-47bc7979dc9a",
   "metadata": {},
   "outputs": [],
   "source": []
  },
  {
   "cell_type": "code",
   "execution_count": 9,
   "id": "9235b972-656e-4f70-a5bf-3c057afdf8b9",
   "metadata": {
    "tags": []
   },
   "outputs": [
    {
     "name": "stdout",
     "output_type": "stream",
     "text": [
      "Collecting geneci\n",
      "  Obtaining dependency information for geneci from https://files.pythonhosted.org/packages/55/61/adcc4b8f9b4b803de48824ae9432b5bc956ac0815a9b9de96647dac79b21/geneci-2.0.1-py3-none-any.whl.metadata\n",
      "  Downloading geneci-2.0.1-py3-none-any.whl.metadata (60 kB)\n",
      "\u001b[2K     \u001b[90m━━━━━━━━━━━━━━━━━━━━━━━━━━━━━━━━━━━━━━━━\u001b[0m \u001b[32m60.5/60.5 kB\u001b[0m \u001b[31m2.3 MB/s\u001b[0m eta \u001b[36m0:00:00\u001b[0m\n",
      "\u001b[?25hCollecting docker<7.0.0,>=6.1.3 (from geneci)\n",
      "  Obtaining dependency information for docker<7.0.0,>=6.1.3 from https://files.pythonhosted.org/packages/db/be/3032490fa33b36ddc8c4b1da3252c6f974e7133f1a50de00c6b85cca203a/docker-6.1.3-py3-none-any.whl.metadata\n",
      "  Downloading docker-6.1.3-py3-none-any.whl.metadata (3.5 kB)\n",
      "Collecting iteround<2.0.0,>=1.0.4 (from geneci)\n",
      "  Obtaining dependency information for iteround<2.0.0,>=1.0.4 from https://files.pythonhosted.org/packages/26/c7/68d920f791cd99919d82dd6db9fc0aca3790dc8d67c69b559a447ca2a914/iteround-1.0.4-py3-none-any.whl.metadata\n",
      "  Downloading iteround-1.0.4-py3-none-any.whl.metadata (4.2 kB)\n",
      "Collecting pandas<2.0.0,>=1.5.1 (from geneci)\n",
      "  Obtaining dependency information for pandas<2.0.0,>=1.5.1 from https://files.pythonhosted.org/packages/b0/be/1843b9aff84b98899663e7cad9f45513dfdd11d69cb5bd85c648aaf6a8d4/pandas-1.5.3-cp311-cp311-macosx_11_0_arm64.whl.metadata\n",
      "  Downloading pandas-1.5.3-cp311-cp311-macosx_11_0_arm64.whl.metadata (11 kB)\n",
      "Collecting plotly<6.0.0,>=5.11.0 (from geneci)\n",
      "  Obtaining dependency information for plotly<6.0.0,>=5.11.0 from https://files.pythonhosted.org/packages/e5/ae/580600f441f6fc05218bd6c9d5794f4aef072a7d9093b291f1c50a9db8bc/plotly-5.24.1-py3-none-any.whl.metadata\n",
      "  Downloading plotly-5.24.1-py3-none-any.whl.metadata (7.3 kB)\n",
      "Requirement already satisfied: scipy<2.0.0,>=1.10.2 in /Users/shamilbiktimirov/anaconda3/lib/python3.11/site-packages (from geneci) (1.11.1)\n",
      "Collecting typer[all]<0.7,>=0.6 (from geneci)\n",
      "  Obtaining dependency information for typer[all]<0.7,>=0.6 from https://files.pythonhosted.org/packages/e8/9b/7470461c68588ed09c2e53cbb16b802815232796d95f7b4744cc8842f19d/typer-0.6.1-py3-none-any.whl.metadata\n",
      "  Downloading typer-0.6.1-py3-none-any.whl.metadata (17 kB)\n",
      "Requirement already satisfied: packaging>=14.0 in /Users/shamilbiktimirov/anaconda3/lib/python3.11/site-packages (from docker<7.0.0,>=6.1.3->geneci) (23.1)\n",
      "Requirement already satisfied: requests>=2.26.0 in /Users/shamilbiktimirov/anaconda3/lib/python3.11/site-packages (from docker<7.0.0,>=6.1.3->geneci) (2.31.0)\n",
      "Requirement already satisfied: urllib3>=1.26.0 in /Users/shamilbiktimirov/anaconda3/lib/python3.11/site-packages (from docker<7.0.0,>=6.1.3->geneci) (1.26.16)\n",
      "Requirement already satisfied: websocket-client>=0.32.0 in /Users/shamilbiktimirov/anaconda3/lib/python3.11/site-packages (from docker<7.0.0,>=6.1.3->geneci) (0.58.0)\n",
      "Requirement already satisfied: python-dateutil>=2.8.1 in /Users/shamilbiktimirov/anaconda3/lib/python3.11/site-packages (from pandas<2.0.0,>=1.5.1->geneci) (2.8.2)\n",
      "Requirement already satisfied: pytz>=2020.1 in /Users/shamilbiktimirov/anaconda3/lib/python3.11/site-packages (from pandas<2.0.0,>=1.5.1->geneci) (2023.3.post1)\n",
      "Requirement already satisfied: numpy>=1.21.0 in /Users/shamilbiktimirov/anaconda3/lib/python3.11/site-packages (from pandas<2.0.0,>=1.5.1->geneci) (1.24.3)\n",
      "Requirement already satisfied: tenacity>=6.2.0 in /Users/shamilbiktimirov/anaconda3/lib/python3.11/site-packages (from plotly<6.0.0,>=5.11.0->geneci) (8.2.2)\n",
      "Requirement already satisfied: click<9.0.0,>=7.1.1 in /Users/shamilbiktimirov/anaconda3/lib/python3.11/site-packages (from typer[all]<0.7,>=0.6->geneci) (8.0.4)\n",
      "Requirement already satisfied: colorama<0.5.0,>=0.4.3 in /Users/shamilbiktimirov/anaconda3/lib/python3.11/site-packages (from typer[all]<0.7,>=0.6->geneci) (0.4.6)\n",
      "Collecting shellingham<2.0.0,>=1.3.0 (from typer[all]<0.7,>=0.6->geneci)\n",
      "  Obtaining dependency information for shellingham<2.0.0,>=1.3.0 from https://files.pythonhosted.org/packages/e0/f9/0595336914c5619e5f28a1fb793285925a8cd4b432c9da0a987836c7f822/shellingham-1.5.4-py2.py3-none-any.whl.metadata\n",
      "  Downloading shellingham-1.5.4-py2.py3-none-any.whl.metadata (3.5 kB)\n",
      "Collecting rich<13.0.0,>=10.11.0 (from typer[all]<0.7,>=0.6->geneci)\n",
      "  Obtaining dependency information for rich<13.0.0,>=10.11.0 from https://files.pythonhosted.org/packages/32/60/81ac2e7d1e3b861ab478a72e3b20fc91c4302acd2274822e493758941829/rich-12.6.0-py3-none-any.whl.metadata\n",
      "  Downloading rich-12.6.0-py3-none-any.whl.metadata (18 kB)\n",
      "Requirement already satisfied: six>=1.5 in /Users/shamilbiktimirov/anaconda3/lib/python3.11/site-packages (from python-dateutil>=2.8.1->pandas<2.0.0,>=1.5.1->geneci) (1.16.0)\n",
      "Requirement already satisfied: charset-normalizer<4,>=2 in /Users/shamilbiktimirov/anaconda3/lib/python3.11/site-packages (from requests>=2.26.0->docker<7.0.0,>=6.1.3->geneci) (2.0.4)\n",
      "Requirement already satisfied: idna<4,>=2.5 in /Users/shamilbiktimirov/anaconda3/lib/python3.11/site-packages (from requests>=2.26.0->docker<7.0.0,>=6.1.3->geneci) (3.4)\n",
      "Requirement already satisfied: certifi>=2017.4.17 in /Users/shamilbiktimirov/anaconda3/lib/python3.11/site-packages (from requests>=2.26.0->docker<7.0.0,>=6.1.3->geneci) (2024.8.30)\n",
      "Collecting commonmark<0.10.0,>=0.9.0 (from rich<13.0.0,>=10.11.0->typer[all]<0.7,>=0.6->geneci)\n",
      "  Obtaining dependency information for commonmark<0.10.0,>=0.9.0 from https://files.pythonhosted.org/packages/b1/92/dfd892312d822f36c55366118b95d914e5f16de11044a27cf10a7d71bbbf/commonmark-0.9.1-py2.py3-none-any.whl.metadata\n",
      "  Downloading commonmark-0.9.1-py2.py3-none-any.whl.metadata (5.7 kB)\n",
      "Requirement already satisfied: pygments<3.0.0,>=2.6.0 in /Users/shamilbiktimirov/anaconda3/lib/python3.11/site-packages (from rich<13.0.0,>=10.11.0->typer[all]<0.7,>=0.6->geneci) (2.15.1)\n",
      "Downloading geneci-2.0.1-py3-none-any.whl (33 kB)\n",
      "Downloading docker-6.1.3-py3-none-any.whl (148 kB)\n",
      "\u001b[2K   \u001b[90m━━━━━━━━━━━━━━━━━━━━━━━━━━━━━━━━━━━━━━━━\u001b[0m \u001b[32m148.1/148.1 kB\u001b[0m \u001b[31m6.7 MB/s\u001b[0m eta \u001b[36m0:00:00\u001b[0m\n",
      "\u001b[?25hDownloading iteround-1.0.4-py3-none-any.whl (7.3 kB)\n",
      "Downloading pandas-1.5.3-cp311-cp311-macosx_11_0_arm64.whl (10.8 MB)\n",
      "\u001b[2K   \u001b[90m━━━━━━━━━━━━━━━━━━━━━━━━━━━━━━━━━━━━━━━━\u001b[0m \u001b[32m10.8/10.8 MB\u001b[0m \u001b[31m4.5 MB/s\u001b[0m eta \u001b[36m0:00:00\u001b[0m00:01\u001b[0m0:01\u001b[0mm\n",
      "\u001b[?25hDownloading plotly-5.24.1-py3-none-any.whl (19.1 MB)\n",
      "\u001b[2K   \u001b[90m━━━━━━━━━━━━━━━━━━━━━━━━━━━━━━━━━━━━━━━━\u001b[0m \u001b[32m19.1/19.1 MB\u001b[0m \u001b[31m29.7 MB/s\u001b[0m eta \u001b[36m0:00:00\u001b[0m00:01\u001b[0m00:01\u001b[0m\n",
      "\u001b[?25hDownloading rich-12.6.0-py3-none-any.whl (237 kB)\n",
      "\u001b[2K   \u001b[90m━━━━━━━━━━━━━━━━━━━━━━━━━━━━━━━━━━━━━━━━\u001b[0m \u001b[32m237.5/237.5 kB\u001b[0m \u001b[31m21.9 MB/s\u001b[0m eta \u001b[36m0:00:00\u001b[0m\n",
      "\u001b[?25hDownloading shellingham-1.5.4-py2.py3-none-any.whl (9.8 kB)\n",
      "Downloading typer-0.6.1-py3-none-any.whl (38 kB)\n",
      "Downloading commonmark-0.9.1-py2.py3-none-any.whl (51 kB)\n",
      "\u001b[2K   \u001b[90m━━━━━━━━━━━━━━━━━━━━━━━━━━━━━━━━━━━━━━━━\u001b[0m \u001b[32m51.1/51.1 kB\u001b[0m \u001b[31m6.7 MB/s\u001b[0m eta \u001b[36m0:00:00\u001b[0m\n",
      "\u001b[?25hInstalling collected packages: iteround, commonmark, typer, shellingham, rich, plotly, pandas, docker, geneci\n",
      "  Attempting uninstall: plotly\n",
      "    Found existing installation: plotly 5.9.0\n",
      "    Uninstalling plotly-5.9.0:\n",
      "      Successfully uninstalled plotly-5.9.0\n",
      "  Attempting uninstall: pandas\n",
      "    Found existing installation: pandas 2.0.3\n",
      "    Uninstalling pandas-2.0.3:\n",
      "      Successfully uninstalled pandas-2.0.3\n",
      "Successfully installed commonmark-0.9.1 docker-6.1.3 geneci-2.0.1 iteround-1.0.4 pandas-1.5.3 plotly-5.24.1 rich-12.6.0 shellingham-1.5.4 typer-0.6.1\n",
      "Note: you may need to restart the kernel to use updated packages.\n"
     ]
    }
   ],
   "source": []
  },
  {
   "cell_type": "code",
   "execution_count": null,
   "id": "4ec864ff-b4fd-44f0-ba35-55a157e7e2b9",
   "metadata": {},
   "outputs": [],
   "source": []
  }
 ],
 "metadata": {
  "kernelspec": {
   "display_name": "Python 3 (ipykernel)",
   "language": "python",
   "name": "python3"
  },
  "language_info": {
   "codemirror_mode": {
    "name": "ipython",
    "version": 3
   },
   "file_extension": ".py",
   "mimetype": "text/x-python",
   "name": "python",
   "nbconvert_exporter": "python",
   "pygments_lexer": "ipython3",
   "version": "3.11.5"
  }
 },
 "nbformat": 4,
 "nbformat_minor": 5
}
