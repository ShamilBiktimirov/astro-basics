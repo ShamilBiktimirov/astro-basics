{
 "cells": [
  {
   "cell_type": "code",
   "execution_count": 3,
   "id": "6cd1843c-26f4-49ac-8d6b-9f34f658a62d",
   "metadata": {},
   "outputs": [
    {
     "name": "stdout",
     "output_type": "stream",
     "text": [
      "Satellite 1 Position Data\n",
      "                  Date and Time        X, km        Y, km        Z, km\n",
      "0    2024-10-29 12:59:59.999987 -2848.596213  3811.088141 -5039.881683\n",
      "1    2024-10-29 13:00:59.999983 -3065.798327  3436.980048 -5179.642172\n",
      "2    2024-10-29 13:02:00.000020 -3269.825898  3048.101833 -5297.082709\n",
      "3    2024-10-29 13:03:00.000016 -3459.804845  2646.127932 -5391.701877\n",
      "4    2024-10-29 13:04:00.000013 -3634.921657  2232.787116 -5463.096139\n",
      "...                         ...          ...          ...          ...\n",
      "1436 2024-10-30 12:56:00.000001 -3225.575056  2939.556139 -5384.768845\n",
      "1437 2024-10-30 12:56:59.999997 -3433.539255  2542.068709 -5458.071673\n",
      "1438 2024-10-30 12:57:59.999994 -3626.755282  2133.662222 -5507.865513\n",
      "1439 2024-10-30 12:58:59.999990 -3804.394715   1716.09182 -5533.938186\n",
      "1440 2024-10-30 12:59:59.999987 -3965.695485  1291.151341  -5536.17869\n",
      "\n",
      "[1441 rows x 4 columns]\n"
     ]
    }
   ],
   "source": [
    "from sgp4.api import Satrec\n",
    "from datetime import datetime, timedelta\n",
    "from astropy.time import Time\n",
    "import numpy as np\n",
    "import pandas as pd\n",
    "\n",
    "\n",
    "s = \"1 44714U 19074B   24303.16471469  .00014028  00000+0  95926-3 0  9999\"\n",
    "t = \"2 44714  53.0541 255.6079 0001757  96.6875 263.4314 15.06381615274085\"\n",
    "\n",
    "satellite = Satrec.twoline2rv(s, t)\n",
    "\n",
    "\n",
    "# Define start and end dates with specific times\n",
    "start_date = \"2024-10-29 13:00:00\"\n",
    "end_date = \"2024-10-30 13:00:00\"\n",
    "\n",
    "# Generate a range of dates with hourly frequency\n",
    "date_range = pd.date_range(start=start_date, end=end_date, freq='1min')\n",
    "\n",
    "# Convert to a list of strings if needed\n",
    "gregorian_dates = date_range.strftime(\"%Y-%m-%d %H:%M:%S\").tolist()\n",
    "\n",
    "# Convert to Julian Date\n",
    "julian_dates = Time(gregorian_dates, format='iso').jd\n",
    "\n",
    "\n",
    "# Propagate for each Julian Date\n",
    "positionsX = []\n",
    "positionsY = []\n",
    "positionsZ = []\n",
    "\n",
    "for jd in julian_dates:\n",
    "    # Convert JD to days since epoch\n",
    "\n",
    "    # Propagate\n",
    "    e, r, v = satellite.sgp4(jd, 0)\n",
    "    if e == 0:\n",
    "        positionsX.append(r[0])\n",
    "        positionsY.append(r[1])\n",
    "        positionsZ.append(r[2])\n",
    "\n",
    "    else:\n",
    "        positionsX.append(None)  # Error in propagation\n",
    "        positionsY.append(None)  # Error in propagation\n",
    "        positionsY.append(None)  # Error in propagation\n",
    "\n",
    "\n",
    "gregorian_dates = Time(julian_dates, format='jd').to_datetime()\n",
    "\n",
    "sat1Data = np.array([gregorian_dates, positionsX, positionsY, positionsZ]).T\n",
    "\n",
    "sat1 = pd.DataFrame(sat1Data, columns=[\"Date and Time\", \"X, km\", \"Y, km\", \"Z, km\"])\n",
    "\n",
    "print(\"Satellite 1 Position Data\")\n",
    "print(sat1)"
   ]
  },
  {
   "cell_type": "code",
   "execution_count": null,
   "id": "54782939-2b6d-4aec-bf30-aa5b88d17d70",
   "metadata": {},
   "outputs": [],
   "source": []
  }
 ],
 "metadata": {
  "kernelspec": {
   "display_name": "Python 3 (ipykernel)",
   "language": "python",
   "name": "python3"
  },
  "language_info": {
   "codemirror_mode": {
    "name": "ipython",
    "version": 3
   },
   "file_extension": ".py",
   "mimetype": "text/x-python",
   "name": "python",
   "nbconvert_exporter": "python",
   "pygments_lexer": "ipython3",
   "version": "3.12.7"
  }
 },
 "nbformat": 4,
 "nbformat_minor": 5
}
